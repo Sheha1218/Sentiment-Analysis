{
 "cells": [
  {
   "cell_type": "code",
   "execution_count": 2,
   "id": "1a2dde94-480e-41b2-bf67-05c5d26d87f7",
   "metadata": {},
   "outputs": [],
   "source": [
    "import numpy as np\n",
    "import pandas as pd\n",
    "import spacy as spy\n",
    "import string\n",
    "import re"
   ]
  },
  {
   "cell_type": "code",
   "execution_count": 10,
   "id": "aeb8cef8-2283-42c5-8ce9-5b303b453a78",
   "metadata": {},
   "outputs": [],
   "source": [
    "txt='bitch who do you love '"
   ]
  },
  {
   "cell_type": "code",
   "execution_count": 7,
   "id": "86c8f867-b7a4-4a84-ab94-aec0e960a603",
   "metadata": {},
   "outputs": [],
   "source": [
    "def remove_rt(utext):\n",
    "  utext=utext.replace('rt :','')\n",
    "  return utext"
   ]
  },
  {
   "cell_type": "code",
   "execution_count": 8,
   "id": "700a16b2-aa8a-4ead-b362-fb2b192d3835",
   "metadata": {},
   "outputs": [],
   "source": [
    "def remove_punctu(text):\n",
    "  for punctuation in string.punctuation:\n",
    "    text=text.replace(punctuation,'')\n",
    "    return text"
   ]
  },
  {
   "cell_type": "code",
   "execution_count": 9,
   "id": "974e8f89-4ab6-40f9-9eee-a8a19a392aa6",
   "metadata": {},
   "outputs": [],
   "source": [
    "def preprocessing(text):\n",
    "    data=pd.DataFrame([text],columns=['tweet'])\n",
    "    data['tweet']=data['tweet'].apply(lambda x:x.lower())\n",
    "    data['tweet']=data['tweet'].str.replace('!','',regex=False)\n",
    "    data['tweet'] = data['tweet'].apply(lambda x:re.sub(r'@\\w+','',x))\n",
    "    data['tweet']=data['tweet'].apply(remove_rt)\n",
    "    data['tweet']=data['tweet'].apply(remove_punctu)\n",
    "    return data['tweet']"
   ]
  },
  {
   "cell_type": "code",
   "execution_count": 11,
   "id": "d66435e5-2981-473f-93ec-477122c6f692",
   "metadata": {},
   "outputs": [],
   "source": [
    "prpr=preprocessing(txt)\n"
   ]
  },
  {
   "cell_type": "code",
   "execution_count": 12,
   "id": "ac57bf16-d858-496d-9f77-a3bbaaa3c598",
   "metadata": {},
   "outputs": [
    {
     "data": {
      "text/plain": [
       "0    bitch who do you love \n",
       "Name: tweet, dtype: object"
      ]
     },
     "execution_count": 12,
     "metadata": {},
     "output_type": "execute_result"
    }
   ],
   "source": [
    "prpr"
   ]
  },
  {
   "cell_type": "code",
   "execution_count": 14,
   "id": "2196aef0-98e9-416d-a634-e2014492ebb6",
   "metadata": {},
   "outputs": [],
   "source": [
    "import pickle"
   ]
  },
  {
   "cell_type": "code",
   "execution_count": 17,
   "id": "219fbfcc-91c7-4b26-a0f7-4d4a8e1a4fc5",
   "metadata": {},
   "outputs": [
    {
     "name": "stderr",
     "output_type": "stream",
     "text": [
      "C:\\Users\\mdsng\\AppData\\Local\\Programs\\Python\\Python312\\Lib\\site-packages\\sklearn\\base.py:440: InconsistentVersionWarning: Trying to unpickle estimator MultinomialNB from version 1.6.1 when using version 1.7.0. This might lead to breaking code or invalid results. Use at your own risk. For more info please refer to:\n",
      "https://scikit-learn.org/stable/model_persistence.html#security-maintainability-limitations\n",
      "  warnings.warn(\n"
     ]
    }
   ],
   "source": [
    "with open ('twitter_model.pickle','rb') as f:\n",
    "    model=pickle.load(f)\n"
   ]
  },
  {
   "cell_type": "code",
   "execution_count": null,
   "id": "e0329d55-8e09-44e6-8bb9-d5bde48ec83e",
   "metadata": {},
   "outputs": [],
   "source": []
  }
 ],
 "metadata": {
  "kernelspec": {
   "display_name": "Python 3 (ipykernel)",
   "language": "python",
   "name": "python3"
  },
  "language_info": {
   "codemirror_mode": {
    "name": "ipython",
    "version": 3
   },
   "file_extension": ".py",
   "mimetype": "text/x-python",
   "name": "python",
   "nbconvert_exporter": "python",
   "pygments_lexer": "ipython3",
   "version": "3.12.3"
  }
 },
 "nbformat": 4,
 "nbformat_minor": 5
}
